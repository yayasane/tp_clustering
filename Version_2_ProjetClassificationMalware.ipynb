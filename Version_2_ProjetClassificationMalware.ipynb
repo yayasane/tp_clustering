{
  "cells": [
    {
      "cell_type": "markdown",
      "metadata": {
        "id": "view-in-github",
        "colab_type": "text"
      },
      "source": [
        "<a href=\"https://colab.research.google.com/github/yayasane/tp_clustering/blob/main/Version_2_ProjetClassificationMalware.ipynb\" target=\"_parent\"><img src=\"https://colab.research.google.com/assets/colab-badge.svg\" alt=\"Open In Colab\"/></a>"
      ]
    },
    {
      "cell_type": "markdown",
      "metadata": {
        "id": "rh4loEvXqJu3"
      },
      "source": [
        "\n",
        "# Projet: Detection de Malware basée sur le Machine Learning\n",
        "\n",
        " ## Pipeline\n",
        "\n",
        "Pipeline Tpour l'Analyse et le Déploiement de Modèles de classification de malware basé sur le machine learning.\n",
        "\n",
        "**1. Importation du Dataset:**\n",
        "\n",
        "\n",
        "Prétraitement des Données:\n",
        "\n",
        "**2. Séparer le dataset en features (caractéristiques) et label (étiquettes).**\n",
        "\n",
        "**3. Définir le nombre de clusters (k):**\n",
        "\n",
        " Nous allons utiliser la méthode du coude pour déterminer la valeur optimale de k.\n",
        "\n",
        "**4 . Application du clustering K-means:**\n",
        "\n",
        " Application du modèle K-means avec le nombre optimal de clusters.\n",
        "\n",
        "**5. Application d'autres algorithmes de clustering:**\n",
        "\n",
        "Application d'autres algorithmes de clustering avec le nombre optimal de clusters.\n",
        "\n",
        "\n",
        "\n",
        "\n",
        "\n",
        "\n",
        "\n",
        "\n",
        "\n",
        "\n"
      ]
    },
    {
      "cell_type": "markdown",
      "metadata": {
        "id": "EyskVKdpyYrZ"
      },
      "source": [
        "**Présentation du jeu de données :**\n",
        "À partir de 137 444 exécutables, nous avons extrait huit caractéristiques pour chaque exécutable et attribué une étiquette correspondante.\n",
        "\n",
        "**Liste des caractéristiques :**\n",
        "\n",
        "\n",
        "* ajorLinkerVersion\n",
        "\n",
        "* MajorImageVersion\n",
        "\n",
        "* MajorOperatingSystemVersion\n",
        "\n",
        "* SizeOfStackReserve\n",
        "\n",
        "* NumberOfSections\n",
        "\n",
        "* ResourceSize\n",
        "\n",
        "* legitimate\n",
        "\n",
        "**Definition des features:**\n",
        "\n",
        "**AddressOfEntryPoint:** L'adresse dans le fichier exécutable où l'exécution du programme doit commencer.\n",
        "\n",
        "**MajorLinkerVersion:**  La version majeure du programme utilisé pour lier le fichier exécutable.\n",
        "\n",
        "**MajorImageVersion:** La version majeure de l'image du fichier exécutable.\n",
        "\n",
        "**MajorOperatingSystemVersion:** La version majeure du système d'exploitation sous lequel le fichier exécutable est destiné à s'exécuter.\n",
        "\n",
        "**DllCharacteristics:**  Les caractéristiques spécifiques de la DLL (Dynamic Link Library) associée au fichier exécutable.\n",
        "\n",
        " **SizeOfStackReserve:** La taille de la mémoire réservée pour la pile d'exécution du programme.\n",
        "\n",
        "**NumberOfSections:** Le nombre de sections dans le fichier exécutable.\n",
        "\n",
        "**ResourceSize:**  La taille des ressources (comme les images, les icônes, etc.) incluses dans le fichier exécutable.\n",
        "\n",
        "**label= legitimate**\n",
        "\n",
        "legitimite=1 <===> malware\n",
        "legitimate=0 <===> benigne (non malware)\n",
        "\n"
      ]
    },
    {
      "cell_type": "markdown",
      "metadata": {
        "id": "BX6bnV5n9SaS"
      },
      "source": [
        "Lien du dataset:\n",
        "https://drive.google.com/drive/folders/1E0RpyEh0g42jFFsNVNm9QzAorSo4QtWq?usp=drive_link"
      ]
    },
    {
      "cell_type": "markdown",
      "metadata": {
        "id": "nZVdWUxzyCS7"
      },
      "source": [
        "Outils: Scikit learn pour entrainer les modeles,pandas pour importer le dataset\n"
      ]
    },
    {
      "cell_type": "code",
      "execution_count": 9,
      "metadata": {
        "id": "EJDT5Yx4x0Np",
        "colab": {
          "base_uri": "https://localhost:8080/"
        },
        "outputId": "52e5067c-680e-4f4c-9aa8-985b578b14d1"
      },
      "outputs": [
        {
          "output_type": "stream",
          "name": "stdout",
          "text": [
            "Requirement already satisfied: kneed in /usr/local/lib/python3.10/dist-packages (0.8.5)\n",
            "Requirement already satisfied: numpy>=1.14.2 in /usr/local/lib/python3.10/dist-packages (from kneed) (1.25.2)\n",
            "Requirement already satisfied: scipy>=1.0.0 in /usr/local/lib/python3.10/dist-packages (from kneed) (1.11.4)\n"
          ]
        }
      ],
      "source": [
        "! pip install kneed"
      ]
    },
    {
      "cell_type": "markdown",
      "source": [
        "K-means\n",
        "* Présentation: L'algorithme K-means est un algorithme de partitionnement, ce qui signifie qu'il divise les données en un nombre prédéfini (k) de clusters.\n",
        "* Principe de fonctionnement: L'algorithme commence par initialiser k centroids, qui sont des points arbitraires dans l'espace des données. Ensuite, il attribue chaque point de données au centroid le plus proche. Enfin, il recalcule la position des centroids comme étant la moyenne des points de données qui leur ont été attribués. Ce processus est répété jusqu'à ce que les centroids convergent, c'est-à-dire qu'ils ne changent plus de position.\n",
        "* Du input au output:\n",
        "    * Input: Un ensemble de données et un nombre de clusters k.\n",
        "    * Output: Une partition des données en k clusters, ainsi que les centroids de chaque cluster."
      ],
      "metadata": {
        "id": "uuW-UJRpO-nL"
      }
    },
    {
      "cell_type": "markdown",
      "metadata": {
        "id": "9r7dbMKu-08T"
      },
      "source": [
        "**1. Importation du Dataset:**"
      ]
    },
    {
      "cell_type": "code",
      "execution_count": 10,
      "metadata": {
        "id": "om7lcMeS_93V",
        "outputId": "ae498e09-09da-4440-cbf6-0dbe6ec88073",
        "colab": {
          "base_uri": "https://localhost:8080/"
        }
      },
      "outputs": [
        {
          "output_type": "stream",
          "name": "stdout",
          "text": [
            "Drive already mounted at /content/drive; to attempt to forcibly remount, call drive.mount(\"/content/drive\", force_remount=True).\n"
          ]
        }
      ],
      "source": [
        "import pandas as pd\n",
        "import numpy as np\n",
        "from sklearn.preprocessing import StandardScaler\n",
        "from sklearn.cluster import KMeans, DBSCAN, AgglomerativeClustering\n",
        "from sklearn.metrics import silhouette_score\n",
        "import matplotlib.pyplot as plt\n",
        "from google.colab import drive\n",
        "drive.mount('/content/drive')"
      ]
    },
    {
      "cell_type": "code",
      "execution_count": 11,
      "metadata": {
        "id": "3YAx-2at-7Rl",
        "colab": {
          "base_uri": "https://localhost:8080/"
        },
        "outputId": "44a49429-cb66-4e0a-b9ea-7683efa18ca4"
      },
      "outputs": [
        {
          "output_type": "stream",
          "name": "stdout",
          "text": [
            "        AddressOfEntryPoint  MajorLinkerVersion  MajorImageVersion  \\\n",
            "0                     10407                   9                  6   \n",
            "1                      5354                   9                  6   \n",
            "2                     58807                   9                  6   \n",
            "3                     25166                   9                  6   \n",
            "4                     70387                   9                  6   \n",
            "...                     ...                 ...                ...   \n",
            "137439               123291                  11                  0   \n",
            "137440                40000                   2                  6   \n",
            "137441                59610                  10                  0   \n",
            "137442                51216                   2                  0   \n",
            "137443                22731                  11                  0   \n",
            "\n",
            "        MajorOperatingSystemVersion  DllCharacteristics  SizeOfStackReserve  \\\n",
            "0                                 6               33088              262144   \n",
            "1                                 6               33088              262144   \n",
            "2                                 6               33088              262144   \n",
            "3                                 6               33088              262144   \n",
            "4                                 6               33088              262144   \n",
            "...                             ...                 ...                 ...   \n",
            "137439                            5               33088             1048576   \n",
            "137440                            1               32768             1048576   \n",
            "137441                            5               33088             1048576   \n",
            "137442                            1                   0             1048576   \n",
            "137443                            5               33088             1048576   \n",
            "\n",
            "        NumberOfSections  ResourceSize  legitimate  \n",
            "0                      4           952           1  \n",
            "1                      4           952           1  \n",
            "2                      4        136490           1  \n",
            "3                      4          1940           1  \n",
            "4                      4         83098           1  \n",
            "...                  ...           ...         ...  \n",
            "137439                 5         81654           0  \n",
            "137440                 8         67624           0  \n",
            "137441                 5         22648           0  \n",
            "137442                 8          2216           0  \n",
            "137443                 5        318464           0  \n",
            "\n",
            "[137444 rows x 9 columns]\n"
          ]
        }
      ],
      "source": [
        "\n",
        "mondataSet = pd.read_csv(\"/content/drive/MyDrive/machinelearning/DatasetmalwareExtrait.csv\")\n",
        "print(mondataSet)\n",
        "# Séparation des caractéristiques et de la cible\n",
        "X = mondataSet.drop(\"legitimate\", axis=1)\n",
        "y = mondataSet[\"legitimate\"]\n",
        "\n",
        "# Normalisation des données\n",
        "scaler = StandardScaler()\n",
        "X_scaled = scaler.fit_transform(X)"
      ]
    },
    {
      "cell_type": "markdown",
      "metadata": {
        "id": "vF0bP3ho-9Wy"
      },
      "source": [
        "**2. Séparer le dataset en features (caractéristiques) et label (étiquettes).**"
      ]
    },
    {
      "cell_type": "code",
      "execution_count": 12,
      "metadata": {
        "id": "MgaZJVAltyV0"
      },
      "outputs": [],
      "source": [
        "# Séparation des caractéristiques et de la cible\n",
        "X = mondataSet.drop(\"legitimate\", axis=1)\n",
        "y = mondataSet[\"legitimate\"]\n",
        "\n",
        "# Normalisation des données\n",
        "scaler = StandardScaler()\n",
        "X_scaled = scaler.fit_transform(X)"
      ]
    },
    {
      "cell_type": "markdown",
      "metadata": {
        "id": "d96zcx9mACI6"
      },
      "source": [
        "**3. Définir le nombre de clusters (k):**"
      ]
    },
    {
      "cell_type": "markdown",
      "source": [
        "Nous allons utiliser la méthode du coude pour déterminer la valeur optimale de k"
      ],
      "metadata": {
        "id": "jLqI4GhXiMcA"
      }
    },
    {
      "cell_type": "code",
      "execution_count": 13,
      "metadata": {
        "id": "s9rFdipCACdx",
        "outputId": "fa5a42d8-a349-466f-cc5d-c383ddacde4f",
        "colab": {
          "base_uri": "https://localhost:8080/"
        }
      },
      "outputs": [
        {
          "output_type": "stream",
          "name": "stderr",
          "text": [
            "/usr/local/lib/python3.10/dist-packages/sklearn/cluster/_kmeans.py:870: FutureWarning: The default value of `n_init` will change from 10 to 'auto' in 1.4. Set the value of `n_init` explicitly to suppress the warning\n",
            "  warnings.warn(\n",
            "/usr/local/lib/python3.10/dist-packages/sklearn/cluster/_kmeans.py:870: FutureWarning: The default value of `n_init` will change from 10 to 'auto' in 1.4. Set the value of `n_init` explicitly to suppress the warning\n",
            "  warnings.warn(\n",
            "/usr/local/lib/python3.10/dist-packages/sklearn/cluster/_kmeans.py:870: FutureWarning: The default value of `n_init` will change from 10 to 'auto' in 1.4. Set the value of `n_init` explicitly to suppress the warning\n",
            "  warnings.warn(\n",
            "/usr/local/lib/python3.10/dist-packages/sklearn/cluster/_kmeans.py:870: FutureWarning: The default value of `n_init` will change from 10 to 'auto' in 1.4. Set the value of `n_init` explicitly to suppress the warning\n",
            "  warnings.warn(\n",
            "/usr/local/lib/python3.10/dist-packages/sklearn/cluster/_kmeans.py:870: FutureWarning: The default value of `n_init` will change from 10 to 'auto' in 1.4. Set the value of `n_init` explicitly to suppress the warning\n",
            "  warnings.warn(\n",
            "/usr/local/lib/python3.10/dist-packages/sklearn/cluster/_kmeans.py:870: FutureWarning: The default value of `n_init` will change from 10 to 'auto' in 1.4. Set the value of `n_init` explicitly to suppress the warning\n",
            "  warnings.warn(\n",
            "/usr/local/lib/python3.10/dist-packages/sklearn/cluster/_kmeans.py:870: FutureWarning: The default value of `n_init` will change from 10 to 'auto' in 1.4. Set the value of `n_init` explicitly to suppress the warning\n",
            "  warnings.warn(\n",
            "/usr/local/lib/python3.10/dist-packages/sklearn/cluster/_kmeans.py:870: FutureWarning: The default value of `n_init` will change from 10 to 'auto' in 1.4. Set the value of `n_init` explicitly to suppress the warning\n",
            "  warnings.warn(\n",
            "/usr/local/lib/python3.10/dist-packages/sklearn/cluster/_kmeans.py:870: FutureWarning: The default value of `n_init` will change from 10 to 'auto' in 1.4. Set the value of `n_init` explicitly to suppress the warning\n",
            "  warnings.warn(\n",
            "/usr/local/lib/python3.10/dist-packages/sklearn/cluster/_kmeans.py:870: FutureWarning: The default value of `n_init` will change from 10 to 'auto' in 1.4. Set the value of `n_init` explicitly to suppress the warning\n",
            "  warnings.warn(\n",
            "/usr/local/lib/python3.10/dist-packages/sklearn/cluster/_kmeans.py:870: FutureWarning: The default value of `n_init` will change from 10 to 'auto' in 1.4. Set the value of `n_init` explicitly to suppress the warning\n",
            "  warnings.warn(\n",
            "/usr/local/lib/python3.10/dist-packages/sklearn/cluster/_kmeans.py:870: FutureWarning: The default value of `n_init` will change from 10 to 'auto' in 1.4. Set the value of `n_init` explicitly to suppress the warning\n",
            "  warnings.warn(\n",
            "/usr/local/lib/python3.10/dist-packages/sklearn/cluster/_kmeans.py:870: FutureWarning: The default value of `n_init` will change from 10 to 'auto' in 1.4. Set the value of `n_init` explicitly to suppress the warning\n",
            "  warnings.warn(\n",
            "/usr/local/lib/python3.10/dist-packages/sklearn/cluster/_kmeans.py:870: FutureWarning: The default value of `n_init` will change from 10 to 'auto' in 1.4. Set the value of `n_init` explicitly to suppress the warning\n",
            "  warnings.warn(\n",
            "/usr/local/lib/python3.10/dist-packages/sklearn/cluster/_kmeans.py:870: FutureWarning: The default value of `n_init` will change from 10 to 'auto' in 1.4. Set the value of `n_init` explicitly to suppress the warning\n",
            "  warnings.warn(\n",
            "/usr/local/lib/python3.10/dist-packages/sklearn/cluster/_kmeans.py:870: FutureWarning: The default value of `n_init` will change from 10 to 'auto' in 1.4. Set the value of `n_init` explicitly to suppress the warning\n",
            "  warnings.warn(\n",
            "/usr/local/lib/python3.10/dist-packages/sklearn/cluster/_kmeans.py:870: FutureWarning: The default value of `n_init` will change from 10 to 'auto' in 1.4. Set the value of `n_init` explicitly to suppress the warning\n",
            "  warnings.warn(\n",
            "/usr/local/lib/python3.10/dist-packages/sklearn/cluster/_kmeans.py:870: FutureWarning: The default value of `n_init` will change from 10 to 'auto' in 1.4. Set the value of `n_init` explicitly to suppress the warning\n",
            "  warnings.warn(\n"
          ]
        },
        {
          "output_type": "stream",
          "name": "stdout",
          "text": [
            "Nombre optimal de clusters (K) : 8\n"
          ]
        }
      ],
      "source": [
        "from kneed import KneeLocator\n",
        "\n",
        "inertias = []\n",
        "range_n_clusters = range(2, 20)\n",
        "\n",
        "for n_clusters in range_n_clusters:\n",
        "    # Initialisation et ajustement du modèle K-means\n",
        "    kmeans = KMeans(n_clusters=n_clusters)\n",
        "    kmeans.fit(X_scaled)\n",
        "    inertias.append(kmeans.inertia_)\n",
        "\n",
        "knee = KneeLocator(range_n_clusters, inertias, curve=\"convex\", direction=\"decreasing\")\n",
        "optimal_k = knee.knee\n",
        "\n",
        "print(\"Nombre optimal de clusters (K) :\", optimal_k)\n"
      ]
    },
    {
      "cell_type": "markdown",
      "metadata": {
        "id": "3gh02wR2ACuL"
      },
      "source": [
        "**3. Application du clustering K-means:**"
      ]
    },
    {
      "cell_type": "code",
      "execution_count": 14,
      "metadata": {
        "id": "EW2SM4dYAC9w",
        "colab": {
          "base_uri": "https://localhost:8080/"
        },
        "outputId": "6fc6b1ed-e484-4fbc-d409-895ce3a4f9b4"
      },
      "outputs": [
        {
          "output_type": "stream",
          "name": "stderr",
          "text": [
            "/usr/local/lib/python3.10/dist-packages/sklearn/cluster/_kmeans.py:870: FutureWarning: The default value of `n_init` will change from 10 to 'auto' in 1.4. Set the value of `n_init` explicitly to suppress the warning\n",
            "  warnings.warn(\n"
          ]
        }
      ],
      "source": [
        "# Initialisation et ajustement du modèle K-means avec le nombre optimal de clusters\n",
        "kmeans = KMeans(n_clusters=optimal_k)\n",
        "kmeans.fit(X_scaled)\n",
        "\n",
        "# Obtenir les labels des clusters\n",
        "cluster_labels = kmeans.labels_\n"
      ]
    },
    {
      "cell_type": "markdown",
      "metadata": {
        "id": "MjgF3gXWADLN"
      },
      "source": [
        "**4 . Analyse des résultats du K-means:**\n",
        "\n"
      ]
    },
    {
      "cell_type": "markdown",
      "source": [
        "\n",
        "\n",
        "*   Visualiser les clusters avec un graphique à dispersion:\n",
        "\n"
      ],
      "metadata": {
        "id": "-ahqpm2KeOtL"
      }
    },
    {
      "cell_type": "code",
      "execution_count": 15,
      "metadata": {
        "id": "wzt4yVJ4ADZ5",
        "colab": {
          "base_uri": "https://localhost:8080/",
          "height": 430
        },
        "outputId": "f89db6a7-789e-4896-cbd9-e9d07298b43f"
      },
      "outputs": [
        {
          "output_type": "display_data",
          "data": {
            "text/plain": [
              "<Figure size 640x480 with 1 Axes>"
            ],
            "image/png": "[encoded data removed]"
          },
          "metadata": {}
        }
      ],
      "source": [
        "plt.scatter(X_scaled[:, 0], X_scaled[:, 1], c=cluster_labels)\n",
        "plt.show()"
      ]
    },
    {
      "cell_type": "markdown",
      "source": [
        "\n",
        "\n",
        "*   Évaluer la qualité du clustering avec le score de silhouette:\n",
        "\n",
        "\n",
        "\n"
      ],
      "metadata": {
        "id": "fS-szz-4do8A"
      }
    },
    {
      "cell_type": "code",
      "execution_count": 16,
      "metadata": {
        "id": "ctcPPbBz7qf-",
        "colab": {
          "base_uri": "https://localhost:8080/"
        },
        "outputId": "be706ec9-582c-4190-bf8f-d6f272e1c3e9"
      },
      "outputs": [
        {
          "output_type": "stream",
          "name": "stdout",
          "text": [
            "Score de silhouette du K-means : 0.6003291461812519\n"
          ]
        }
      ],
      "source": [
        "silhouette_avg = silhouette_score(X_scaled, cluster_labels)\n",
        "print(\"Score de silhouette du K-means :\", silhouette_avg)"
      ]
    },
    {
      "cell_type": "markdown",
      "metadata": {
        "id": "4l-iZe9-Atep"
      },
      "source": [
        "**5. Application d'autres algorithmes de clustering:**\n",
        "\n",
        "\n",
        "\n",
        "\n",
        "\n"
      ]
    },
    {
      "cell_type": "markdown",
      "source": [
        "\n",
        "\n",
        "*   DBSCAN (Density-Based Spatial Clustering of Applications with Noise)\n",
        "\n"
      ],
      "metadata": {
        "id": "qTjxHwegfLe0"
      }
    },
    {
      "cell_type": "code",
      "execution_count": null,
      "metadata": {
        "id": "3on9UL6R7qf_"
      },
      "outputs": [],
      "source": [
        "from sklearn.cluster import DBSCAN\n",
        "\n",
        "# Initialisation et ajustement du modèle DBSCAN\n",
        "dbscan = DBSCAN(eps=0.5, min_samples=5)\n",
        "dbscan.fit(X_scaled)\n",
        "\n",
        "# Obtenir les labels des clusters\n",
        "cluster_labels_dbscan = dbscan.labels_\n",
        "\n",
        "# Évaluer la qualité du clustering avec le score de silhouette\n",
        "silhouette_avg_dbscan = silhouette_score(X_scaled, cluster_labels_dbscan)\n",
        "print(\"Score de silhouette du DBSCAN :\", silhouette_avg_dbscan)\n"
      ]
    },
    {
      "cell_type": "markdown",
      "source": [
        "\n",
        "\n",
        "*   Clustering hiérarchique\n",
        "\n"
      ],
      "metadata": {
        "id": "-qXGKrPMfZrS"
      }
    },
    {
      "cell_type": "code",
      "source": [
        "from sklearn.cluster import AgglomerativeClustering\n",
        "\n",
        "# Initialisation et ajustement du modèle de clustering hiérarchique\n",
        "hc = AgglomerativeClustering(n_clusters=optimal_k, linkage=\"ward\")\n",
        "hc.fit(X_scaled)\n",
        "\n",
        "# Obtenir les labels des clusters\n",
        "cluster_labels_hc = hc.labels_\n",
        "\n",
        "# Évaluer la qualité du clustering avec le score de silhouette\n",
        "silhouette_avg_hc = silhouette_score(X_scaled, cluster_labels_hc)\n",
        "print(\"Score de silhouette du clustering hiérarchique :\", silhouette_avg_hc)\n"
      ],
      "metadata": {
        "id": "vNhuW-ZefgSs"
      },
      "execution_count": null,
      "outputs": []
    },
    {
      "cell_type": "markdown",
      "source": [
        "Comparaisons de résultats:"
      ],
      "metadata": {
        "id": "qUNUS7ZCxxrj"
      }
    },
    {
      "cell_type": "code",
      "source": [
        "print(\"K-means: \", silhouette_avg)\n",
        "print(\"DBSCAN: \", silhouette_avg_dbscan)\n",
        "print(\"Clustering hiérarchique: \", silhouette_avg_hc)"
      ],
      "metadata": {
        "id": "ZFt3yddyx8My"
      },
      "execution_count": null,
      "outputs": []
    },
    {
      "cell_type": "markdown",
      "source": [
        "Pour l'interprétation des scores :\n",
        "\n",
        "*   Un score de silhouette proche de 1 indique une bonne séparation des clusters.\n",
        "*   Un score de silhouette proche de 0 indique une mauvaise séparation des clusters.\n",
        "*   Un score de silhouette négatif indique que les points sont regroupés dans des clusters mal définis.\n",
        "\n",
        "\n"
      ],
      "metadata": {
        "id": "Tr3AGDf4ybbZ"
      }
    },
    {
      "cell_type": "markdown",
      "metadata": {
        "id": "SCGgu3ckADn_"
      },
      "source": [
        "#               **FIN**"
      ]
    }
  ],
  "metadata": {
    "colab": {
      "provenance": [],
      "gpuType": "T4",
      "include_colab_link": true
    },
    "kernelspec": {
      "display_name": "Python 3",
      "name": "python3"
    },
    "language_info": {
      "codemirror_mode": {
        "name": "ipython",
        "version": 3
      },
      "file_extension": ".py",
      "mimetype": "text/x-python",
      "name": "python",
      "nbconvert_exporter": "python",
      "pygments_lexer": "ipython3",
      "version": "3.12.0"
    },
    "accelerator": "GPU"
  },
  "nbformat": 4,
  "nbformat_minor": 0
}